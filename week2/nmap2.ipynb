{
 "cells": [
  {
   "cell_type": "markdown",
   "id": "crude-making",
   "metadata": {},
   "source": [
    "<h1 style=\"text-align: center; vertical-align: middle;\">Numerical Methods in Accelerator Physics</h1>\n",
    "<h2 style=\"text-align: center; vertical-align: middle;\">Python examples and <span style=\"color:darkred\">tasks</span> -- Week 2</h2>"
   ]
  },
  {
   "cell_type": "markdown",
   "id": "amazing-front",
   "metadata": {},
   "source": [
    "<h2>Run this first!</h2>\n",
    "\n",
    "Imports and modules:"
   ]
  },
  {
   "cell_type": "code",
   "execution_count": null,
   "id": "superior-fundamentals",
   "metadata": {},
   "outputs": [],
   "source": [
    "from config2 import *\n",
    "%matplotlib inline"
   ]
  },
  {
   "cell_type": "markdown",
   "id": "rising-monkey",
   "metadata": {},
   "source": [
    "<h3>Pendulum parameters, Hamiltonian</h3>"
   ]
  },
  {
   "cell_type": "code",
   "execution_count": 2,
   "id": "resistant-joseph",
   "metadata": {},
   "outputs": [],
   "source": [
    "m = 1 # point mass\n",
    "g = 1 # magnitude of the gravitational field\n",
    "L = 1 # length of the rod"
   ]
  },
  {
   "cell_type": "code",
   "execution_count": 3,
   "id": "atmospheric-asian",
   "metadata": {},
   "outputs": [],
   "source": [
    "### Values of hamiltonian for comparison with theory\n",
    "TH, PP = np.meshgrid(np.linspace(-np.pi * 1.1, np.pi * 1.1, 100), \n",
    "                     np.linspace(-3, 3, 100))\n",
    "\n",
    "HH = hamiltonian(TH, PP)"
   ]
  },
  {
   "cell_type": "markdown",
   "id": "9f81c1fe",
   "metadata": {},
   "source": [
    "<h2><span style=\"color:darkred\">Task 2.3a) Euler-Cromer Method (slide 11)</span></h2>"
   ]
  },
  {
   "cell_type": "markdown",
   "id": "christian-hello",
   "metadata": {},
   "source": [
    "<p style=\"color:darkred\">Please add the update formulars for the Euler-Cromer method below.</p>"
   ]
  },
  {
   "cell_type": "code",
   "execution_count": null,
   "id": "beautiful-trauma",
   "metadata": {},
   "outputs": [],
   "source": [
    "def solve_eulercromer(theta, p, dt=0.1):\n",
    "    \"\"\"Return phase space coordinates (theta_next, p_next) after one time step n+1 using Euler-Cromer.\n",
    "    \n",
    "    Keyword arguments:\n",
    "    theta -- initial displacement angle at time step n\n",
    "    p -- initial momentum at time step n\n",
    "    dt -- discrete time step\n",
    "    \"\"\"\n",
    "    theta_next = # add here the equation to calculate the displacement at time step n+1\n",
    "    p_next = # add here the equation to calculate the momentum at time step n+1\n",
    "    return (theta_next, p_next)"
   ]
  },
  {
   "cell_type": "markdown",
   "id": "ae417d30",
   "metadata": {},
   "source": [
    "<p>Initial phase space coordinates and number of time steps:</p>"
   ]
  },
  {
   "cell_type": "code",
   "execution_count": null,
   "id": "interracial-sister",
   "metadata": {},
   "outputs": [],
   "source": [
    "theta_ini = -1.1\n",
    "p_ini = 0\n",
    "n_steps = 100"
   ]
  },
  {
   "cell_type": "markdown",
   "id": "a480ffcc",
   "metadata": {},
   "source": [
    "<p>Initialization of the results' list and calculation of the results:</p>"
   ]
  },
  {
   "cell_type": "code",
   "execution_count": 49,
   "id": "chronic-failing",
   "metadata": {},
   "outputs": [],
   "source": [
    "results_eulercromer = np.zeros((n_steps, 2), dtype=np.float32)\n",
    "results_eulercromer[0] = (theta_ini, p_ini)\n",
    "\n",
    "for k in range(1, n_steps):\n",
    "    results_eulercromer[k] = solve_eulercromer(*results_eulercromer[k - 1])"
   ]
  },
  {
   "cell_type": "markdown",
   "id": "59472aaa",
   "metadata": {},
   "source": [
    "<p>Calculating explicit Euler results for comparison:</p>"
   ]
  },
  {
   "cell_type": "code",
   "execution_count": 50,
   "id": "quality-delicious",
   "metadata": {},
   "outputs": [],
   "source": [
    "### Explicit Euler for comparison:\n",
    "results_euler = np.zeros((n_steps, 2), dtype=np.float32) # for comparison\n",
    "results_euler[0] = (theta_ini, p_ini)\n",
    "\n",
    "for k in range(1, n_steps):\n",
    "    results_euler[k] = solve_euler(*results_euler[k - 1])"
   ]
  },
  {
   "cell_type": "markdown",
   "id": "21a5d7d3",
   "metadata": {},
   "source": [
    "<p>Plotting the results:</p>"
   ]
  },
  {
   "cell_type": "code",
   "execution_count": null,
   "id": "apparent-meditation",
   "metadata": {},
   "outputs": [],
   "source": [
    "plt.contour(TH, PP, HH, levels=10, linestyles='--', linewidths=1)\n",
    "\n",
    "plt.plot(results_euler[:, 0], results_euler[:, 1], c='b', label='Euler')\n",
    "plt.plot(results_eulercromer[:, 0], results_eulercromer[:, 1], c='c', label='Euler-Cromer')\n",
    "\n",
    "plt.legend(bbox_to_anchor=(1.05, 1))\n",
    "set_axes()"
   ]
  },
  {
   "cell_type": "markdown",
   "id": "26273f4d",
   "metadata": {},
   "source": [
    "<p>Plotting total energy of the system: comparison of Euler-Cromer, explicit Euler and theory</p>"
   ]
  },
  {
   "cell_type": "code",
   "execution_count": null,
   "id": "exposed-springfield",
   "metadata": {},
   "outputs": [],
   "source": [
    "plt.plot(\n",
    "    hamiltonian(results_euler[:, 0], results_euler[:, 1]), \n",
    "    c='b', label='Euler')\n",
    "plt.plot(\n",
    "    hamiltonian(results_eulercromer[:, 0], results_eulercromer[:, 1]), \n",
    "    c='c', label='Euler-Cromer')\n",
    "plt.axhline(hamiltonian(theta_ini, p_ini), c='r', label='theory')\n",
    "\n",
    "plt.xlabel('Steps $k$')\n",
    "plt.ylabel(r'$\\mathcal{H}(\\theta, p)$')\n",
    "plt.legend(bbox_to_anchor=(1.05, 1));"
   ]
  },
  {
   "cell_type": "markdown",
   "id": "empirical-cedar",
   "metadata": {},
   "source": [
    "<h2><span style=\"color:darkred\">Task 2.3b) Leapfrog Method (slide 13)</span></h3>"
   ]
  },
  {
   "cell_type": "markdown",
   "id": "a9747759",
   "metadata": {},
   "source": [
    "<p style=\"color:darkred\">Please add the update formulars for the Leapfrog method below.</p>"
   ]
  },
  {
   "cell_type": "code",
   "execution_count": null,
   "id": "minus-origin",
   "metadata": {},
   "outputs": [],
   "source": [
    "def solve_leapfrog(theta, p, dt=0.1):\n",
    "    \"\"\"Return phase space coordinates (theta_next, p_next) after one time step n+1 using Leapfrog.\n",
    "    \n",
    "    Keyword arguments:\n",
    "    theta -- initial displacement angle at time step n\n",
    "    p -- initial momentum at time step n\n",
    "    dt -- discrete time step\n",
    "    \"\"\"\n",
    "    p_next =  # add here the equation to calculate the momentum at time step n+1\n",
    "    theta_next =  # add here the equation to calculate the displacement at time step n+1\n",
    "    return (theta_next, p_next)"
   ]
  },
  {
   "cell_type": "markdown",
   "id": "daa292bc",
   "metadata": {},
   "source": [
    "<p>Initialization of the results' list and calculation of the results:</p>"
   ]
  },
  {
   "cell_type": "code",
   "execution_count": 11,
   "id": "multiple-plenty",
   "metadata": {},
   "outputs": [],
   "source": [
    "results_leapfrog = np.zeros((n_steps, 2), dtype=np.float32)\n",
    "results_leapfrog[0] = (theta_ini, p_ini)\n",
    "\n",
    "for k in range(1, n_steps):\n",
    "    results_leapfrog[k] = solve_leapfrog(*results_leapfrog[k - 1])"
   ]
  },
  {
   "cell_type": "markdown",
   "id": "07fc541c",
   "metadata": {},
   "source": [
    "<p>Plotting total energy of the system: comparison of Leapfrog, Euler-Cromer, explicit Euler and theory</p>"
   ]
  },
  {
   "cell_type": "code",
   "execution_count": null,
   "id": "eleven-identity",
   "metadata": {},
   "outputs": [],
   "source": [
    "plt.plot(\n",
    "    hamiltonian(results_euler[:, 0], results_euler[:, 1]), \n",
    "    c='b', label='Euler, $\\mathcal{O}(\\Delta t^2)$')\n",
    "plt.plot(\n",
    "    hamiltonian(results_eulercromer[:, 0], results_eulercromer[:, 1]), \n",
    "    c='c', label='Euler-Cromer, $\\mathcal{O}(\\Delta t^2)$')\n",
    "plt.plot(\n",
    "    hamiltonian(results_leapfrog[:, 0], results_leapfrog[:, 1]), \n",
    "    c='k', label='leapfrog, $\\mathcal{O}(\\Delta t^3)$')\n",
    "plt.axhline(hamiltonian(theta_ini, p_ini), c='r', lw=2, label='theory')\n",
    "\n",
    "plt.ylim(0.5, 0.6)\n",
    "plt.xlabel('Steps $k$')\n",
    "plt.ylabel(r'$\\mathcal{H}(\\theta, p)$')\n",
    "plt.legend(bbox_to_anchor=(1.05, 1));"
   ]
  },
  {
   "cell_type": "markdown",
   "id": "f4c12236",
   "metadata": {},
   "source": [
    "<h2>Statistics</h2>"
   ]
  },
  {
   "cell_type": "markdown",
   "id": "4abb0ffe",
   "metadata": {},
   "source": [
    "<h3>Collection of pendulums (slides 15)</h3>"
   ]
  },
  {
   "cell_type": "markdown",
   "id": "7fd0359a",
   "metadata": {},
   "source": [
    "<p>Initializing a collection of 105 pendulums on a linear grid:</p>"
   ]
  },
  {
   "cell_type": "code",
   "execution_count": null,
   "id": "b2e59c9b",
   "metadata": {},
   "outputs": [],
   "source": [
    "theta_grid = np.linspace(-0.5 * np.pi, 0.5 * np.pi, 21)\n",
    "p_grid = np.linspace(-0.3, 0.3, 5)\n",
    "\n",
    "thetas, ps = np.meshgrid(theta_grid, p_grid)\n",
    "\n",
    "print(len(theta_grid) * len(p_grid), \"pendulums in total.\")"
   ]
  },
  {
   "cell_type": "markdown",
   "id": "2b54ac31",
   "metadata": {},
   "source": [
    "<p>Plotting all initial positions and the Hamiltonian contours:</p>"
   ]
  },
  {
   "cell_type": "code",
   "execution_count": null,
   "id": "d5d167f4",
   "metadata": {},
   "outputs": [],
   "source": [
    "plt.scatter(thetas, ps, c='b', marker='.')\n",
    "\n",
    "plot_hamiltonian()"
   ]
  },
  {
   "cell_type": "markdown",
   "id": "470f7a89",
   "metadata": {},
   "source": [
    "<h3>Time evolution calculated by Leapfrog</h3>"
   ]
  },
  {
   "cell_type": "markdown",
   "id": "dd8eb57a",
   "metadata": {},
   "source": [
    "<p>Number of time steps:</p>"
   ]
  },
  {
   "cell_type": "code",
   "execution_count": null,
   "id": "264b193e",
   "metadata": {},
   "outputs": [],
   "source": [
    "n_steps = 100"
   ]
  },
  {
   "cell_type": "markdown",
   "id": "1988f1f7",
   "metadata": {},
   "source": [
    "<p>Numerical results using Leapfrog method:</p>"
   ]
  },
  {
   "cell_type": "code",
   "execution_count": null,
   "id": "df86f3e1",
   "metadata": {},
   "outputs": [],
   "source": [
    "results_thetas = np.zeros((n_steps, N), dtype=np.float32)\n",
    "results_thetas[0] = thetas.flatten()\n",
    "\n",
    "results_ps = np.zeros((n_steps, N), dtype=np.float32)\n",
    "results_ps[0] = ps.flatten()\n",
    "\n",
    "for k in range(1, n_steps):\n",
    "    results_thetas[k], results_ps[k] = solve_leapfrog(results_thetas[k - 1], results_ps[k - 1])"
   ]
  },
  {
   "cell_type": "markdown",
   "id": "f6754597",
   "metadata": {},
   "source": [
    "<h3>Observations of centroids (slide 20)</h3>"
   ]
  },
  {
   "cell_type": "markdown",
   "id": "ace17e66",
   "metadata": {},
   "source": [
    "<p>Calculating the centroids from the numerical results:</p>"
   ]
  },
  {
   "cell_type": "code",
   "execution_count": null,
   "id": "b76b55fb",
   "metadata": {},
   "outputs": [],
   "source": [
    "centroids_theta = 1/N * np.sum(results_thetas, axis=1)\n",
    "centroids_p = 1/N * np.sum(results_ps, axis=1)"
   ]
  },
  {
   "cell_type": "markdown",
   "id": "d532ba44",
   "metadata": {},
   "source": [
    "<p>Plotting the results:</p>"
   ]
  },
  {
   "cell_type": "code",
   "execution_count": null,
   "id": "969d5578",
   "metadata": {},
   "outputs": [],
   "source": [
    "plt.plot(centroids_theta, label=r'$\\langle\\theta\\rangle$')\n",
    "plt.plot(centroids_p, label=r'$\\langle p\\rangle$')\n",
    "\n",
    "plt.xlabel('Steps $k$')\n",
    "plt.ylabel('Centroid amplitude')\n",
    "plt.legend(bbox_to_anchor=(1.05, 1));"
   ]
  },
  {
   "cell_type": "markdown",
   "id": "f26d2cc1",
   "metadata": {},
   "source": [
    "<h3>Observations of RMS size (slide 20)</h3>"
   ]
  },
  {
   "cell_type": "markdown",
   "id": "203f0e2f",
   "metadata": {},
   "source": [
    "<p>Calculating the variance from the numerical results:</p>"
   ]
  },
  {
   "cell_type": "code",
   "execution_count": null,
   "id": "a4930a64",
   "metadata": {},
   "outputs": [],
   "source": [
    "var_theta = 1/N * np.sum(results_thetas * results_thetas, axis=1)\n",
    "var_p = 1/N * np.sum(results_ps * results_ps, axis=1)"
   ]
  },
  {
   "cell_type": "markdown",
   "id": "e876d31b",
   "metadata": {},
   "source": [
    "<p>Plotting the results:</p>"
   ]
  },
  {
   "cell_type": "code",
   "execution_count": null,
   "id": "ff085adf",
   "metadata": {},
   "outputs": [],
   "source": [
    "plt.plot(var_theta, label=r'$\\langle\\theta^2\\rangle$')\n",
    "plt.plot(var_p, label=r'$\\langle p^2\\rangle$')\n",
    "\n",
    "plt.xlabel('Steps $k$')\n",
    "plt.ylabel('Variance')\n",
    "plt.legend(bbox_to_anchor=(1.05, 1));"
   ]
  },
  {
   "cell_type": "markdown",
   "id": "8c812113",
   "metadata": {},
   "source": [
    "<h3>Distribution evolution over time</h3> "
   ]
  },
  {
   "cell_type": "code",
   "execution_count": null,
   "id": "0ea4098b",
   "metadata": {},
   "outputs": [],
   "source": [
    "k = 18\n",
    "\n",
    "plt.scatter(results_thetas[k], results_ps[k], c='b', marker='.')\n",
    "\n",
    "plot_hamiltonian()"
   ]
  },
  {
   "cell_type": "markdown",
   "id": "c918dbb5",
   "metadata": {},
   "source": [
    "<h3>RMS emittance evolution (slide 21)</h3>"
   ]
  },
  {
   "cell_type": "markdown",
   "id": "eceb64e6",
   "metadata": {},
   "source": [
    "$$\\epsilon = \\sqrt{\\langle \\theta^2\\rangle \\langle p^2\\rangle - \\langle \\theta\\,p\\rangle^2}$$"
   ]
  },
  {
   "cell_type": "markdown",
   "id": "1aadcb81",
   "metadata": {},
   "source": [
    "<p>Defining the emittance calculation:</p>"
   ]
  },
  {
   "cell_type": "code",
   "execution_count": null,
   "id": "b6fc809d",
   "metadata": {},
   "outputs": [],
   "source": [
    "def emittance(theta, p):\n",
    "    N = len(theta)\n",
    "    \n",
    "    # subtract centroids\n",
    "    theta = theta - 1/N * np.sum(theta)\n",
    "    p = p - 1/N * np.sum(p)\n",
    "    \n",
    "    # compute Σ matrix entries\n",
    "    theta_sq = 1/N * np.sum(theta * theta)\n",
    "    p_sq = 1/N * np.sum(p * p)\n",
    "    crossterm = 1/N * np.sum(theta * p)\n",
    "    \n",
    "    # determinant of Σ matrix\n",
    "    epsilon = np.sqrt(theta_sq * p_sq - crossterm * crossterm)\n",
    "    return epsilon"
   ]
  },
  {
   "cell_type": "markdown",
   "id": "f0eaafa2",
   "metadata": {},
   "source": [
    "<p>Calculating the emittance from the numerical results:</p>"
   ]
  },
  {
   "cell_type": "code",
   "execution_count": null,
   "id": "9cc08752",
   "metadata": {},
   "outputs": [],
   "source": [
    "results_emit = np.zeros(n_steps, dtype=np.float32)\n",
    "\n",
    "for k in range(n_steps):\n",
    "    results_emit[k] = emittance(results_thetas[k], results_ps[k])"
   ]
  },
  {
   "cell_type": "markdown",
   "id": "28bfc460",
   "metadata": {},
   "source": [
    "<p>Plotting the results:</p>"
   ]
  },
  {
   "cell_type": "code",
   "execution_count": null,
   "id": "36292c55",
   "metadata": {},
   "outputs": [],
   "source": [
    "plt.plot(results_emit)\n",
    "\n",
    "plt.xlabel('Steps $k$')\n",
    "plt.ylabel('RMS emittance $\\epsilon$');"
   ]
  },
  {
   "cell_type": "markdown",
   "id": "124c5586",
   "metadata": {},
   "source": [
    "<h2><span style=\"color:darkred\">Task 2.3c) Emittance vs Linear Dynamics</span></h2>"
   ]
  },
  {
   "cell_type": "markdown",
   "id": "9dfab68b",
   "metadata": {},
   "source": [
    "<p style=\"color:darkred\">Taylor-expand the sine function in the pendulum equations of motion and cut after first order.</p>"
   ]
  },
  {
   "cell_type": "markdown",
   "id": "b3d8dfb1",
   "metadata": {},
   "source": [
    "<p style=\"color: darkred\">Re-run the simulation for this linear system using Leapfrog. For this, implement a function to use linear updates:</p>"
   ]
  },
  {
   "cell_type": "code",
   "execution_count": null,
   "id": "a2dadd0a",
   "metadata": {},
   "outputs": [],
   "source": [
    "def solve_leapfrog_linear(theta, p, dt=dt):\n",
    "     \"\"\"Return phase space coordinates (theta_next, p_next) after one time step n+1 using linearized Leapfrog.\n",
    "    \n",
    "    Keyword arguments:\n",
    "    theta -- initial displacement angle at time step n\n",
    "    p -- initial momentum at time step n\n",
    "    dt -- discrete time step\n",
    "    \"\"\"\n",
    "    p_next =  # add here the equation to calculate the momentum at time step n+1\n",
    "    theta_next =  # add here the equation to calculate the displacement at time step n+1\n",
    "    return (theta_next, p_next)"
   ]
  },
  {
   "cell_type": "markdown",
   "id": "85f7cfc8",
   "metadata": {},
   "source": [
    "<p>Initializing results' lists and filling with numerical data:</p>"
   ]
  },
  {
   "cell_type": "code",
   "execution_count": null,
   "id": "717fe881",
   "metadata": {},
   "outputs": [],
   "source": [
    "results_thetas_linear = np.zeros((n_steps, N), dtype=np.float32)\n",
    "results_thetas_linear[0] = thetas.flatten()\n",
    "\n",
    "results_ps_linear = np.zeros((n_steps, N), dtype=np.float32)\n",
    "results_ps_linear[0] = ps.flatten()\n",
    "\n",
    "for k in range(1, n_steps):\n",
    "    results_thetas_linear[k], results_ps_linear[k] = solve_leapfrog_linear(results_thetas_linear[k - 1], results_ps_linear[k - 1])"
   ]
  },
  {
   "cell_type": "markdown",
   "id": "6b215cb4",
   "metadata": {},
   "source": [
    "<p style=\"color:darkred\">Observe the variances as well as emittance evolution.</p>"
   ]
  },
  {
   "cell_type": "code",
   "execution_count": null,
   "id": "ad6cfb15",
   "metadata": {},
   "outputs": [],
   "source": [
    "var_theta_linear =  # add here the equation to calculate the variance of theta\n",
    "var_p_linear =  # add here the equation to calculate the variance of p"
   ]
  },
  {
   "cell_type": "code",
   "execution_count": null,
   "id": "0e66c7db",
   "metadata": {},
   "outputs": [],
   "source": [
    "plt.plot(var_theta_linear, label=r'$\\langle\\theta^2\\rangle$')\n",
    "plt.plot(var_p_linear, label=r'$\\langle p^2\\rangle$')\n",
    "\n",
    "plt.xlabel('Steps $k$')\n",
    "plt.ylabel('Variance')\n",
    "plt.legend(bbox_to_anchor=(1.05, 1));"
   ]
  },
  {
   "cell_type": "code",
   "execution_count": null,
   "id": "14f6ee32",
   "metadata": {},
   "outputs": [],
   "source": [
    "results_emit_linear = np.zeros(n_steps, dtype=np.float32)\n",
    "\n",
    "for k in range(n_steps):\n",
    "    results_emit_linear[k] =  # add here the equation to calculate the emittance"
   ]
  },
  {
   "cell_type": "code",
   "execution_count": null,
   "id": "05929e42",
   "metadata": {},
   "outputs": [],
   "source": [
    "plt.plot(results_emit_linear)\n",
    "\n",
    "plt.xlabel('Steps $k$')\n",
    "plt.ylabel('RMS emittance $\\epsilon$');"
   ]
  },
  {
   "cell_type": "markdown",
   "id": "7cfb9a1e",
   "metadata": {},
   "source": [
    "<p style=\"color:darkred\">Can you explain why the emittance behaves this way (in contrast to non-linear model)?</p>"
   ]
  }
 ],
 "metadata": {
  "kernelspec": {
   "display_name": "Python 3",
   "language": "python",
   "name": "python3"
  },
  "language_info": {
   "codemirror_mode": {
    "name": "ipython",
    "version": 3
   },
   "file_extension": ".py",
   "mimetype": "text/x-python",
   "name": "python",
   "nbconvert_exporter": "python",
   "pygments_lexer": "ipython3",
   "version": "3.10.17"
  }
 },
 "nbformat": 4,
 "nbformat_minor": 5
}
