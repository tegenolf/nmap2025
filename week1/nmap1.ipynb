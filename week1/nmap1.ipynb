{
 "cells": [
  {
   "cell_type": "markdown",
   "id": "impressed-consistency",
   "metadata": {},
   "source": [
    "<h1 style=\"text-align: center; vertical-align: middle;\">Numerical Methods in Accelerator Physics</h1>\n",
    "<h2 style=\"text-align: center; vertical-align: middle;\">Python examples and <span style=\"color:darkred\">tasks</span> -- Week 1</h2>"
   ]
  },
  {
   "cell_type": "markdown",
   "id": "positive-nashville",
   "metadata": {},
   "source": [
    "<h2>Run this first!</h2>\n",
    "\n",
    "Imports and modules:"
   ]
  },
  {
   "cell_type": "code",
   "execution_count": null,
   "id": "herbal-drain",
   "metadata": {},
   "outputs": [],
   "source": [
    "from config import *\n",
    "%matplotlib inline"
   ]
  },
  {
   "cell_type": "markdown",
   "id": "b39f8014-2d86-4248-8011-d12d73ee803d",
   "metadata": {},
   "source": [
    "<h2>Nonlinear pendulum - Lecture examples</h2>"
   ]
  },
  {
   "cell_type": "markdown",
   "id": "entertaining-german",
   "metadata": {},
   "source": [
    "<h3>Phase space plots based on Lagragian (slide 21)</h3>"
   ]
  },
  {
   "cell_type": "markdown",
   "id": "54ae4a83-524a-4561-863f-059e42e156d2",
   "metadata": {},
   "source": [
    "Parameters of the nonlinear pendulum:"
   ]
  },
  {
   "cell_type": "code",
   "execution_count": null,
   "id": "orange-minority",
   "metadata": {},
   "outputs": [],
   "source": [
    "m = 1 # point mass\n",
    "g = 1 # magnitude of the gravitational field\n",
    "L = 1 # length of the rod"
   ]
  },
  {
   "cell_type": "markdown",
   "id": "c79cfdb3-78dd-42a9-9d28-2c11b4391030",
   "metadata": {},
   "source": [
    "Function to plot direction and magnitude of pendulum's motion for a given position in phase space:"
   ]
  },
  {
   "cell_type": "code",
   "execution_count": null,
   "id": "secret-mount",
   "metadata": {},
   "outputs": [],
   "source": [
    "def plot_arrow(theta, p, dt=1.0, c='r'):\n",
    "    \"\"\"Plot arrows on given position in phase space in the direction of pendulum's motion.\n",
    "    \n",
    "    Keyword arguments:\n",
    "    theta -- displacement angle\n",
    "    p -- momentum\n",
    "    dt -- time step (default 1.0)\n",
    "    c -- marker's color (default 'r')\n",
    "    \"\"\"\n",
    "    # equations of motion:\n",
    "    dtheta = p / (m * L*L) * dt\n",
    "    dp = - m * g * L * np.sin(theta) * dt\n",
    "    \n",
    "    # plotting\n",
    "    plt.scatter([theta], [p], s=50, c=c, marker='*', zorder=10)\n",
    "    plt.annotate('', \n",
    "                 xytext=(theta, p), \n",
    "                 xy=(theta + dtheta, p + dp), \n",
    "                 arrowprops=dict(facecolor='black', shrink=0.03))"
   ]
  },
  {
   "cell_type": "markdown",
   "id": "5564df55-919f-42aa-b4bb-3bc5d41be18f",
   "metadata": {},
   "source": [
    "In the following plot the arrows indicate the motion of the pendulum for a given initial displacement angle $\\theta$ and momentum $p$ - both the coordinates of pendulum's phase space."
   ]
  },
  {
   "cell_type": "code",
   "execution_count": null,
   "id": "optimum-sweet",
   "metadata": {},
   "outputs": [],
   "source": [
    "# increase momentum at zero displacement (red markers):\n",
    "for i in np.arange(0.0, 2.5, 0.2):\n",
    "    plot_arrow(0, i)\n",
    "\n",
    "# incraese momentum and angle (blue markers):\n",
    "for i in np.arange(0.2, 2.5, 0.2):\n",
    "    plot_arrow(-i/2.5*(np.pi*1.1), -i , c='b')\n",
    "\n",
    "# increase angle and zero initial momentum (green markers):\n",
    "for i in np.arange(0.2, np.pi * 1.1, 0.2):\n",
    "    plot_arrow(i, 0, c='g')\n",
    "\n",
    "# set labels, ticks and plot limits\n",
    "set_axes(xlim=(-np.pi*2,np.pi*1.2))\n",
    "plt.xticks([-np.pi*3/2, -np.pi, -np.pi/2, 0, np.pi/2, np.pi],\n",
    "               [r\"$-3\\pi/2$\", r\"$-\\pi$\", r\"$-\\pi/2$\", \"0\", r\"$\\pi/2$\", r\"$\\pi$\"]);"
   ]
  },
  {
   "cell_type": "markdown",
   "id": "cff60cdc-c74b-4da0-8de8-b5c09d8b4d74",
   "metadata": {},
   "source": [
    "- red markers: pendulum at center position with no displacement but with positive initial momemntum will increase displacement\n",
    "- green markers: pendulum with positive displacement but with zero initial momentum will increase its momentum with negative sign (except for $\\theta\\geq\\pi$)\n",
    "- blue markers: pendulum with small negative displacement and negative momentum will increase (negative) displacement and decrease momentum, large displacement leads to further increase of momentum $\\rightarrow$ stability?"
   ]
  },
  {
   "cell_type": "markdown",
   "id": "suspended-stadium",
   "metadata": {},
   "source": [
    "<h3>Hamiltonian of the pendulum (slide 25)</h3>"
   ]
  },
  {
   "cell_type": "markdown",
   "id": "5756cf37-f0e9-48b2-b56d-12bd204fb3dd",
   "metadata": {},
   "source": [
    "$H=T+U=\\frac{1}{2}\\frac{p^2}{ml^2}+mgl(1-\\cos\\theta)$"
   ]
  },
  {
   "cell_type": "code",
   "execution_count": null,
   "id": "quantitative-stephen",
   "metadata": {},
   "outputs": [],
   "source": [
    "def hamiltonian(theta, p):\n",
    "    \"\"\"Return value of Hamiltonian at given phase space coordinates.\n",
    "    \n",
    "    Keyword arguments:\n",
    "    theta -- displacement angle\n",
    "    p -- momentum\n",
    "    \"\"\"\n",
    "    T = p * p / (2 * m * L*L)\n",
    "    U = m * g * L * (1 - np.cos(theta))\n",
    "    return T + U"
   ]
  },
  {
   "cell_type": "code",
   "execution_count": null,
   "id": "naval-penguin",
   "metadata": {},
   "outputs": [],
   "source": [
    "# Grid points\n",
    "TH, PP = np.meshgrid(np.linspace(-np.pi * 1.1, np.pi * 1.1, 100), \n",
    "                     np.linspace(-3, 3, 100))\n",
    "\n",
    "# Values of Hamiltonian at the grid points\n",
    "HH = hamiltonian(TH, PP)\n",
    "\n",
    "# Contour plot + legend\n",
    "plt.contour(TH, PP, HH, levels=10)\n",
    "plt.colorbar(label=r'$\\mathcal{H}(\\theta, p)$')\n",
    "\n",
    "# set labels, ticks and plot limits\n",
    "set_axes()"
   ]
  },
  {
   "cell_type": "markdown",
   "id": "172bf450-8c43-4fa9-9c05-da4376673e37",
   "metadata": {},
   "source": [
    "$\\Rightarrow$ Contours of Hamiltonian = trajectories of pendulum motion = phase space trajectories\n",
    "\n",
    "To illustrate this, we can plot contours and arrows together, where the arrows at the markers are always parallel to the contours:"
   ]
  },
  {
   "cell_type": "code",
   "execution_count": null,
   "id": "expired-champion",
   "metadata": {},
   "outputs": [],
   "source": [
    "# Grid points\n",
    "TH, PP = np.meshgrid(np.linspace(-np.pi * 2, np.pi * 1.2, 200), \n",
    "                     np.linspace(-3, 3, 100))\n",
    "\n",
    "# Value of Hamiltonian at grid points\n",
    "HH = hamiltonian(TH, PP)\n",
    "\n",
    "# Contour plot\n",
    "plt.contourf(TH, PP, HH, cmap=plt.get_cmap('hot_r'), levels=30)\n",
    "plt.colorbar(label=r'$\\mathcal{H}(\\theta, p)$')\n",
    "\n",
    "# Arrows indication pendulum motion\n",
    "# increase momentum at zero displacement (red markers):\n",
    "for i in np.arange(0.0, 2.5, 0.4):\n",
    "    plot_arrow(0, i)\n",
    "\n",
    "# incraese momentum and angle (blue markers):\n",
    "for i in np.arange(0.2, 2.5, 0.4):\n",
    "    plot_arrow(-i/2.5*(np.pi*1.1), -i , c='b')\n",
    "\n",
    "# increase angle and zero initial momentum (green markers):\n",
    "for i in np.arange(0.2, np.pi * 1.1, 0.4):\n",
    "    plot_arrow(i, 0, c='g')\n",
    "\n",
    "# set labels, ticks and plot limits\n",
    "set_axes(xlim=(-np.pi*2,np.pi*1.2))\n",
    "plt.xticks([-np.pi*3/2, -np.pi, -np.pi/2, 0, np.pi/2, np.pi],\n",
    "               [r\"$-3\\pi/2$\", r\"$-\\pi$\", r\"$-\\pi/2$\", \"0\", r\"$\\pi/2$\", r\"$\\pi$\"]);"
   ]
  },
  {
   "cell_type": "markdown",
   "id": "charming-profit",
   "metadata": {},
   "source": [
    "<h2><span style=\"color:darkred\">Task 1.4: Explicit Euler Method (slide 28)</span></h2>"
   ]
  },
  {
   "cell_type": "markdown",
   "id": "336a1ec8-31ae-4d8d-a8f2-f1e2ade9e299",
   "metadata": {},
   "source": [
    "<h3><span style=\"color:darkred\">1.4a) Define explicit Euler formula</span></h3>"
   ]
  },
  {
   "cell_type": "markdown",
   "id": "50514ee1-a5ce-4815-9d64-64b2f48cd52a",
   "metadata": {},
   "source": [
    "<p>The two coupled first-order ODEs of a nonlinear pendulum are<br />\n",
    "$\\frac{d\\theta}{dt}=\\frac{p}{mL^2}$ and $\\frac{dp}{dt}=-mgL\\sin\\theta$</p>\n",
    "<p><span style=\"color:darkred\">Please add the explicit Euler formulas in the function below starting from these ODEs and using the approximation $\\frac{dx}{dt}=\\frac{x_{n+1}-x_n}{\\Delta t}$ for $x=\\theta, p$.</span></p>"
   ]
  },
  {
   "cell_type": "code",
   "execution_count": null,
   "id": "labeled-romania",
   "metadata": {},
   "outputs": [],
   "source": [
    "def solve_euler(theta, p, deltat=0.1):\n",
    "    \"\"\"Return phase space coordinates (theta_next, p_next) after one time step n+1 using explicit Euler formulas.\n",
    "    \n",
    "    Keyword arguments:\n",
    "    theta -- initial displacement angle at time step n\n",
    "    p -- initial momentum at time step n\n",
    "    deltat -- discrete time step\n",
    "    \"\"\"\n",
    "    theta_next = # add here the equation to calculate the displacement at time step n+1\n",
    "    p_next = # add here the equation to calculate the momentum at time step n+1\n",
    "    return (theta_next, p_next)"
   ]
  },
  {
   "cell_type": "markdown",
   "id": "demographic-pacific",
   "metadata": {},
   "source": [
    "<h3><span style=\"color:darkred\">1.4b) First example</span></h3>"
   ]
  },
  {
   "cell_type": "markdown",
   "id": "504ab8cb-c64e-4b77-8abf-84336d24507d",
   "metadata": {},
   "source": [
    "Initial phase space coordinates and number of time steps:"
   ]
  },
  {
   "cell_type": "code",
   "execution_count": null,
   "id": "private-sarah",
   "metadata": {},
   "outputs": [],
   "source": [
    "theta_ini = -1.1\n",
    "p_ini = 0\n",
    "n_steps = 100"
   ]
  },
  {
   "cell_type": "markdown",
   "id": "1d9f354c-54cb-48c5-8fee-a3fcd7cf0ce5",
   "metadata": {},
   "source": [
    "Initialization of the results' list:"
   ]
  },
  {
   "cell_type": "code",
   "execution_count": null,
   "id": "corresponding-shell",
   "metadata": {},
   "outputs": [],
   "source": [
    "results_euler = np.zeros((n_steps, 2), dtype=np.float32)\n",
    "results_euler[0] = (theta_ini, p_ini)"
   ]
  },
  {
   "cell_type": "markdown",
   "id": "4a9baa92-6671-48d0-91a8-1dcf05b3f8b2",
   "metadata": {},
   "source": [
    "<span style=\"color:darkred\">Please fill the results' list with the results of the Euler steps (return values of funtion solve_euler):</span>"
   ]
  },
  {
   "cell_type": "code",
   "execution_count": null,
   "id": "c019482e-5aaa-442d-83c0-9ee4b6a2f1d7",
   "metadata": {},
   "outputs": [],
   "source": [
    "for k in range(1, n_steps): # add here a loop over the results' list and fill each entry with the return values of solve_euler\n",
    "    "
   ]
  },
  {
   "cell_type": "markdown",
   "id": "942c87e4-cbd8-490f-a328-b14a344d29dd",
   "metadata": {},
   "source": [
    "Plotting the results and Hamiltonian contours for comparison:"
   ]
  },
  {
   "cell_type": "code",
   "execution_count": null,
   "id": "neither-metadata",
   "metadata": {},
   "outputs": [],
   "source": [
    "# Contours of Hamiltonian\n",
    "plt.contour(TH, PP, HH, levels=10, linestyles='--', linewidths=1)\n",
    "\n",
    "# Results of explicit Euler\n",
    "plt.plot(results_euler[:, 0], results_euler[:, 1], c='b')\n",
    "\n",
    "# set labels, ticks and plot limits\n",
    "set_axes()"
   ]
  },
  {
   "cell_type": "markdown",
   "id": "fd180c3c-99c0-4fa5-a8c1-94f06a7b61ef",
   "metadata": {},
   "source": [
    "Plotting total energy of the system: comparison of theory and approximation by explicit Euler"
   ]
  },
  {
   "cell_type": "code",
   "execution_count": null,
   "id": "identified-night",
   "metadata": {},
   "outputs": [],
   "source": [
    "plt.plot(\n",
    "    hamiltonian(results_euler[:, 0], results_euler[:, 1]), \n",
    "    c='b', label='Euler integrator')\n",
    "plt.axhline(hamiltonian(theta_ini, p_ini), c='r', label='theory')\n",
    "\n",
    "plt.xlabel('Steps $k$')\n",
    "plt.ylabel(r'$\\mathcal{H}(\\theta, p)$')\n",
    "plt.legend();"
   ]
  },
  {
   "cell_type": "markdown",
   "id": "b4f3288f-00bb-4f99-ab22-f63eeab1f2a8",
   "metadata": {},
   "source": [
    "<p><span style=\"color:darkred\">What happened here? Is there a way to get a more accurate result with the explicit Euler formula? Try to change the parameters to reduce the discretization error.</span></p>"
   ]
  },
  {
   "cell_type": "markdown",
   "id": "electoral-destiny",
   "metadata": {},
   "source": [
    "<h3><span style=\"color:darkred\">1.4c) Second example: even worse!</h3>"
   ]
  },
  {
   "cell_type": "markdown",
   "id": "f58fb0b7-477c-4361-b0fb-66007b34542e",
   "metadata": {},
   "source": [
    "Initial phase space coordinates and number of time steps:"
   ]
  },
  {
   "cell_type": "code",
   "execution_count": null,
   "id": "gross-basics",
   "metadata": {},
   "outputs": [],
   "source": [
    "theta_ini2 = -3.\n",
    "p_ini2 = 0\n",
    "n_steps = 100"
   ]
  },
  {
   "cell_type": "markdown",
   "id": "dac2f5d2-1baa-4912-ae13-a12405be1c1b",
   "metadata": {},
   "source": [
    "<p><span style=\"color:darkred\">Please add the cells like in task 1.4b) to calculate the phase space coordinates of the pendulum by the explicit Euler method.</span></p>"
   ]
  },
  {
   "cell_type": "code",
   "execution_count": null,
   "id": "pressing-bhutan",
   "metadata": {},
   "outputs": [],
   "source": [
    "# results' list"
   ]
  },
  {
   "cell_type": "code",
   "execution_count": null,
   "id": "native-trader",
   "metadata": {},
   "outputs": [],
   "source": [
    "# contour plot"
   ]
  },
  {
   "cell_type": "code",
   "execution_count": null,
   "id": "c7601e98-e304-4582-978e-8d7504de5870",
   "metadata": {},
   "outputs": [],
   "source": [
    "# energy plot"
   ]
  },
  {
   "cell_type": "markdown",
   "id": "0c57b89d-13c7-43d0-a6d3-dea9ede1375a",
   "metadata": {},
   "source": [
    "<p>The initial phase space coordinate is inside of the separatrix (stable pendulum motion) but the approximate solution crosses the separatrix.</p>\n",
    "<p><span style=\"color:darkred\">Calculate the value of the Hamiltonian at the separatrix (Hint: $(\\theta=-\\pi, p=0)$ is on the separatrix) and add it as a line to the energy plot to illustrate the separatrix crossing.</span></p>"
   ]
  },
  {
   "cell_type": "code",
   "execution_count": null,
   "id": "residential-latin",
   "metadata": {},
   "outputs": [],
   "source": [
    "h_sep = # Value of Hamiltonian at separatrix\n",
    "h_sep"
   ]
  },
  {
   "cell_type": "code",
   "execution_count": null,
   "id": "veterinary-familiar",
   "metadata": {},
   "outputs": [],
   "source": [
    "# energy plot + h_sep"
   ]
  }
 ],
 "metadata": {
  "kernelspec": {
   "display_name": "nmap25",
   "language": "python",
   "name": "nmap25"
  },
  "language_info": {
   "codemirror_mode": {
    "name": "ipython",
    "version": 3
   },
   "file_extension": ".py",
   "mimetype": "text/x-python",
   "name": "python",
   "nbconvert_exporter": "python",
   "pygments_lexer": "ipython3",
   "version": "3.11.12"
  }
 },
 "nbformat": 4,
 "nbformat_minor": 5
}
